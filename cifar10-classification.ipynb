{
 "cells": [
  {
   "cell_type": "code",
   "execution_count": 1,
   "metadata": {
    "_cell_guid": "b1076dfc-b9ad-4769-8c92-a6c4dae69d19",
    "_uuid": "8f2839f25d086af736a60e9eeb907d3b93b6e0e5",
    "execution": {
     "iopub.execute_input": "2025-03-02T09:17:14.479021Z",
     "iopub.status.busy": "2025-03-02T09:17:14.478715Z",
     "iopub.status.idle": "2025-03-02T09:17:15.429138Z",
     "shell.execute_reply": "2025-03-02T09:17:15.428218Z",
     "shell.execute_reply.started": "2025-03-02T09:17:14.478991Z"
    },
    "trusted": true
   },
   "outputs": [],
   "source": [
    "# This Python 3 environment comes with many helpful analytics libraries installed\n",
    "# It is defined by the kaggle/python Docker image: https://github.com/kaggle/docker-python\n",
    "# For example, here's several helpful packages to load\n",
    "\n",
    "import numpy as np # linear algebra\n",
    "import pandas as pd # data processing, CSV file I/O (e.g. pd.read_csv)\n",
    "\n",
    "# Input data files are available in the read-only \"../input/\" directory\n",
    "# For example, running this (by clicking run or pressing Shift+Enter) will list all files under the input directory\n",
    "\n",
    "import os\n",
    "for dirname, _, filenames in os.walk('/kaggle/input'):\n",
    "    for filename in filenames:\n",
    "        print(os.path.join(dirname, filename))\n",
    "\n",
    "# You can write up to 20GB to the current directory (/kaggle/working/) that gets preserved as output when you create a version using \"Save & Run All\" \n",
    "# You can also write temporary files to /kaggle/temp/, but they won't be saved outside of the current session"
   ]
  },
  {
   "cell_type": "code",
   "execution_count": 2,
   "metadata": {
    "execution": {
     "iopub.execute_input": "2025-03-02T09:19:42.878639Z",
     "iopub.status.busy": "2025-03-02T09:19:42.878328Z",
     "iopub.status.idle": "2025-03-02T09:19:42.882413Z",
     "shell.execute_reply": "2025-03-02T09:19:42.881424Z",
     "shell.execute_reply.started": "2025-03-02T09:19:42.878614Z"
    },
    "trusted": true
   },
   "outputs": [
    {
     "name": "stderr",
     "output_type": "stream",
     "text": [
      "2025-03-02 10:33:26.654025: I external/local_xla/xla/tsl/cuda/cudart_stub.cc:32] Could not find cuda drivers on your machine, GPU will not be used.\n",
      "2025-03-02 10:33:27.118000: I external/local_xla/xla/tsl/cuda/cudart_stub.cc:32] Could not find cuda drivers on your machine, GPU will not be used.\n",
      "2025-03-02 10:33:27.421565: E external/local_xla/xla/stream_executor/cuda/cuda_fft.cc:477] Unable to register cuFFT factory: Attempting to register factory for plugin cuFFT when one has already been registered\n",
      "WARNING: All log messages before absl::InitializeLog() is called are written to STDERR\n",
      "E0000 00:00:1740911607.734485    7643 cuda_dnn.cc:8310] Unable to register cuDNN factory: Attempting to register factory for plugin cuDNN when one has already been registered\n",
      "E0000 00:00:1740911607.851469    7643 cuda_blas.cc:1418] Unable to register cuBLAS factory: Attempting to register factory for plugin cuBLAS when one has already been registered\n",
      "2025-03-02 10:33:28.755812: I tensorflow/core/platform/cpu_feature_guard.cc:210] This TensorFlow binary is optimized to use available CPU instructions in performance-critical operations.\n",
      "To enable the following instructions: AVX2 FMA, in other operations, rebuild TensorFlow with the appropriate compiler flags.\n"
     ]
    }
   ],
   "source": [
    "import tensorflow as tf\n",
    "import numpy as np\n",
    "import pandas as pd\n",
    "import matplotlib.pyplot as plt\n",
    "import sklearn"
   ]
  },
  {
   "cell_type": "code",
   "execution_count": 3,
   "metadata": {
    "execution": {
     "iopub.execute_input": "2025-03-02T09:20:59.613175Z",
     "iopub.status.busy": "2025-03-02T09:20:59.612855Z",
     "iopub.status.idle": "2025-03-02T09:21:06.997087Z",
     "shell.execute_reply": "2025-03-02T09:21:06.996300Z",
     "shell.execute_reply.started": "2025-03-02T09:20:59.613153Z"
    },
    "trusted": true
   },
   "outputs": [
    {
     "name": "stdout",
     "output_type": "stream",
     "text": [
      "Downloading data from https://www.cs.toronto.edu/~kriz/cifar-10-python.tar.gz\n"
     ]
    },
    {
     "name": "stdout",
     "output_type": "stream",
     "text": [
      "\u001b[1m170498071/170498071\u001b[0m \u001b[32m━━━━━━━━━━━━━━━━━━━━\u001b[0m\u001b[37m\u001b[0m \u001b[1m13s\u001b[0m 0us/step\n"
     ]
    }
   ],
   "source": [
    "(X_train , y_train),(X_test,y_test) = tf.keras.datasets.cifar10.load_data()"
   ]
  },
  {
   "cell_type": "code",
   "execution_count": 4,
   "metadata": {
    "execution": {
     "iopub.execute_input": "2025-03-02T09:21:41.859703Z",
     "iopub.status.busy": "2025-03-02T09:21:41.859375Z",
     "iopub.status.idle": "2025-03-02T09:21:41.865071Z",
     "shell.execute_reply": "2025-03-02T09:21:41.864137Z",
     "shell.execute_reply.started": "2025-03-02T09:21:41.859676Z"
    },
    "trusted": true
   },
   "outputs": [
    {
     "data": {
      "text/plain": [
       "(10000, 32, 32, 3)"
      ]
     },
     "execution_count": 4,
     "metadata": {},
     "output_type": "execute_result"
    }
   ],
   "source": [
    "X_test.shape"
   ]
  },
  {
   "cell_type": "code",
   "execution_count": 5,
   "metadata": {
    "execution": {
     "iopub.execute_input": "2025-03-02T09:55:11.500423Z",
     "iopub.status.busy": "2025-03-02T09:55:11.499983Z",
     "iopub.status.idle": "2025-03-02T09:55:11.504430Z",
     "shell.execute_reply": "2025-03-02T09:55:11.503673Z",
     "shell.execute_reply.started": "2025-03-02T09:55:11.500396Z"
    },
    "trusted": true
   },
   "outputs": [],
   "source": [
    "# reshaping y into 1d array\n",
    "y_train = y_train.reshape(-1,)\n",
    "y_train[:5]\n",
    "y_test = y_test.reshape(-1,)"
   ]
  },
  {
   "cell_type": "code",
   "execution_count": 6,
   "metadata": {
    "execution": {
     "iopub.execute_input": "2025-03-02T09:25:00.335016Z",
     "iopub.status.busy": "2025-03-02T09:25:00.334637Z",
     "iopub.status.idle": "2025-03-02T09:25:00.339188Z",
     "shell.execute_reply": "2025-03-02T09:25:00.338310Z",
     "shell.execute_reply.started": "2025-03-02T09:25:00.334994Z"
    },
    "trusted": true
   },
   "outputs": [],
   "source": [
    "classes = [\"airplane\",\"automobile\",\"bird\",\"cat\",\"deer\",\"dog\",\"frog\",\"horse\",\"ship\",\"truck\"]"
   ]
  },
  {
   "cell_type": "code",
   "execution_count": 7,
   "metadata": {
    "execution": {
     "iopub.execute_input": "2025-03-02T09:27:56.553739Z",
     "iopub.status.busy": "2025-03-02T09:27:56.553415Z",
     "iopub.status.idle": "2025-03-02T09:27:56.558076Z",
     "shell.execute_reply": "2025-03-02T09:27:56.557108Z",
     "shell.execute_reply.started": "2025-03-02T09:27:56.553714Z"
    },
    "trusted": true
   },
   "outputs": [],
   "source": [
    "def plot_samples(X,y,index):\n",
    "    plt.figure(figsize = (15,2))\n",
    "    plt.imshow(X[index])\n",
    "    plt.xlabel(classes[y[index]])"
   ]
  },
  {
   "cell_type": "code",
   "execution_count": 8,
   "metadata": {
    "execution": {
     "iopub.execute_input": "2025-03-02T09:28:24.686251Z",
     "iopub.status.busy": "2025-03-02T09:28:24.685952Z",
     "iopub.status.idle": "2025-03-02T09:28:24.797478Z",
     "shell.execute_reply": "2025-03-02T09:28:24.796618Z",
     "shell.execute_reply.started": "2025-03-02T09:28:24.686229Z"
    },
    "trusted": true
   },
   "outputs": [
    {
     "data": {
      "image/png": "[encoded data removed]",
      "text/plain": [
       "<Figure size 1500x200 with 1 Axes>"
      ]
     },
     "metadata": {},
     "output_type": "display_data"
    }
   ],
   "source": [
    "plot_samples(X_train,y_train,12312)"
   ]
  },
  {
   "cell_type": "markdown",
   "metadata": {},
   "source": [
    "# NORMALISATION"
   ]
  },
  {
   "cell_type": "code",
   "execution_count": 9,
   "metadata": {
    "execution": {
     "iopub.execute_input": "2025-03-02T09:32:17.297255Z",
     "iopub.status.busy": "2025-03-02T09:32:17.296853Z",
     "iopub.status.idle": "2025-03-02T09:32:17.774869Z",
     "shell.execute_reply": "2025-03-02T09:32:17.774178Z",
     "shell.execute_reply.started": "2025-03-02T09:32:17.297227Z"
    },
    "trusted": true
   },
   "outputs": [],
   "source": [
    "X_train = X_train/255.\n",
    "X_test = X_test/255."
   ]
  },
  {
   "cell_type": "markdown",
   "metadata": {},
   "source": [
    "# using CNN for improving the model"
   ]
  },
  {
   "cell_type": "code",
   "execution_count": 13,
   "metadata": {
    "execution": {
     "iopub.execute_input": "2025-03-02T09:48:37.076691Z",
     "iopub.status.busy": "2025-03-02T09:48:37.076359Z",
     "iopub.status.idle": "2025-03-02T09:49:14.516741Z",
     "shell.execute_reply": "2025-03-02T09:49:14.515842Z",
     "shell.execute_reply.started": "2025-03-02T09:48:37.076667Z"
    },
    "trusted": true
   },
   "outputs": [
    {
     "name": "stderr",
     "output_type": "stream",
     "text": [
      "/usr/local/python/3.12.1/lib/python3.12/site-packages/keras/src/layers/convolutional/base_conv.py:107: UserWarning: Do not pass an `input_shape`/`input_dim` argument to a layer. When using Sequential models, prefer using an `Input(shape)` object as the first layer in the model instead.\n",
      "  super().__init__(activity_regularizer=activity_regularizer, **kwargs)\n"
     ]
    },
    {
     "name": "stdout",
     "output_type": "stream",
     "text": [
      "Epoch 1/2\n",
      "\u001b[1m1563/1563\u001b[0m \u001b[32m━━━━━━━━━━━━━━━━━━━━\u001b[0m\u001b[37m\u001b[0m \u001b[1m34s\u001b[0m 21ms/step - accuracy: 0.3916 - loss: 1.6660\n",
      "Epoch 2/2\n",
      "\u001b[1m1563/1563\u001b[0m \u001b[32m━━━━━━━━━━━━━━━━━━━━\u001b[0m\u001b[37m\u001b[0m \u001b[1m32s\u001b[0m 21ms/step - accuracy: 0.6090 - loss: 1.1215\n"
     ]
    },
    {
     "data": {
      "text/plain": [
       "<keras.src.callbacks.history.History at 0x74eeecb725a0>"
      ]
     },
     "execution_count": 13,
     "metadata": {},
     "output_type": "execute_result"
    }
   ],
   "source": [
    "cnn = tf.keras.Sequential([\n",
    "    #convolution layer\n",
    "    tf.keras.layers.Conv2D(filters = 32, kernel_size = (3,3),activation = \"relu\",input_shape = (32,32,3)),\n",
    "    tf.keras.layers.MaxPooling2D((2,2)),\n",
    "    \n",
    "    tf.keras.layers.Conv2D(filters = 64, kernel_size = (3,3),activation= \"relu\"),\n",
    "    tf.keras.layers.MaxPooling2D((2,2)),\n",
    "    \n",
    "    #dense layer\n",
    "    tf.keras.layers.Flatten(),\n",
    "    tf.keras.layers.Dense(64,activation = \"relu\"),\n",
    "    tf.keras.layers.Dense(10,activation = \"softmax\")\n",
    "])\n",
    "\n",
    "# compiling\n",
    "cnn.compile(optimizer = \"Adam\",\n",
    "           loss = \"sparse_categorical_crossentropy\",\n",
    "           metrics=[\"accuracy\"])\n",
    "\n",
    "cnn.fit(X_train,y_train,epochs = 2)"
   ]
  },
  {
   "cell_type": "code",
   "execution_count": 14,
   "metadata": {
    "execution": {
     "iopub.execute_input": "2025-03-02T09:54:37.304313Z",
     "iopub.status.busy": "2025-03-02T09:54:37.303910Z",
     "iopub.status.idle": "2025-03-02T09:54:39.095254Z",
     "shell.execute_reply": "2025-03-02T09:54:39.094363Z",
     "shell.execute_reply.started": "2025-03-02T09:54:37.304285Z"
    },
    "trusted": true
   },
   "outputs": [
    {
     "name": "stdout",
     "output_type": "stream",
     "text": [
      "\u001b[1m313/313\u001b[0m \u001b[32m━━━━━━━━━━━━━━━━━━━━\u001b[0m\u001b[37m\u001b[0m \u001b[1m2s\u001b[0m 7ms/step - accuracy: 0.6292 - loss: 1.0657\n"
     ]
    },
    {
     "data": {
      "text/plain": [
       "[1.0724682807922363, 0.6276000142097473]"
      ]
     },
     "execution_count": 14,
     "metadata": {},
     "output_type": "execute_result"
    }
   ],
   "source": [
    "cnn.evaluate(X_test,y_test)"
   ]
  },
  {
   "cell_type": "markdown",
   "metadata": {},
   "source": [
    "# comparing and plotting results"
   ]
  },
  {
   "cell_type": "code",
   "execution_count": 15,
   "metadata": {
    "execution": {
     "iopub.execute_input": "2025-03-02T09:56:08.732239Z",
     "iopub.status.busy": "2025-03-02T09:56:08.731944Z",
     "iopub.status.idle": "2025-03-02T09:56:08.848280Z",
     "shell.execute_reply": "2025-03-02T09:56:08.847385Z",
     "shell.execute_reply.started": "2025-03-02T09:56:08.732220Z"
    },
    "trusted": true
   },
   "outputs": [
    {
     "data": {
      "image/png": "[encoded data removed]",
      "text/plain": [
       "<Figure size 1500x200 with 1 Axes>"
      ]
     },
     "metadata": {},
     "output_type": "display_data"
    }
   ],
   "source": [
    "plot_samples(X_test,y_test,1)"
   ]
  },
  {
   "cell_type": "code",
   "execution_count": 17,
   "metadata": {
    "execution": {
     "iopub.execute_input": "2025-03-02T10:06:39.315019Z",
     "iopub.status.busy": "2025-03-02T10:06:39.314618Z",
     "iopub.status.idle": "2025-03-02T10:06:40.307899Z",
     "shell.execute_reply": "2025-03-02T10:06:40.307145Z",
     "shell.execute_reply.started": "2025-03-02T10:06:39.314987Z"
    },
    "trusted": true
   },
   "outputs": [
    {
     "name": "stdout",
     "output_type": "stream",
     "text": [
      "\u001b[1m313/313\u001b[0m \u001b[32m━━━━━━━━━━━━━━━━━━━━\u001b[0m\u001b[37m\u001b[0m \u001b[1m2s\u001b[0m 6ms/step\n"
     ]
    }
   ],
   "source": [
    "y_pred = cnn.predict(X_test)\n",
    "\n",
    "# working on the probability score\n",
    "y_classes = [np.argmax(element) for element in y_pred]"
   ]
  },
  {
   "cell_type": "code",
   "execution_count": null,
   "metadata": {
    "execution": {
     "iopub.execute_input": "2025-03-02T10:08:54.769810Z",
     "iopub.status.busy": "2025-03-02T10:08:54.769526Z",
     "iopub.status.idle": "2025-03-02T10:08:54.900468Z",
     "shell.execute_reply": "2025-03-02T10:08:54.899658Z",
     "shell.execute_reply.started": "2025-03-02T10:08:54.769790Z"
    },
    "trusted": true
   },
   "outputs": [
    {
     "data": {
      "text/plain": [
       "[<matplotlib.lines.Line2D at 0x7b893fff3df0>]"
      ]
     },
     "execution_count": 42,
     "metadata": {},
     "output_type": "execute_result"
    },
    {
     "data": {
      "image/png": "[encoded data removed]",
      "text/plain": [
       "<Figure size 640x480 with 1 Axes>"
      ]
     },
     "metadata": {},
     "output_type": "display_data"
    }
   ],
   "source": [
    "plt.plot(y_test[:30],y_classes[:30])"
   ]
  },
  {
   "cell_type": "code",
   "execution_count": 18,
   "metadata": {
    "execution": {
     "iopub.execute_input": "2025-03-02T10:16:25.041922Z",
     "iopub.status.busy": "2025-03-02T10:16:25.041607Z",
     "iopub.status.idle": "2025-03-02T10:16:25.046418Z",
     "shell.execute_reply": "2025-03-02T10:16:25.045708Z",
     "shell.execute_reply.started": "2025-03-02T10:16:25.041897Z"
    },
    "trusted": true
   },
   "outputs": [],
   "source": [
    "# function to compare true vs predicted results\n",
    "def comparison(X,y,index):\n",
    "    # plt.figure(figsize = (15,2))\n",
    "    plt.subplot(1,2,1)\n",
    "    plt.imshow(X[index])\n",
    "    plt.xlabel(classes[y[index]])\n",
    "    \n",
    "    plt.subplot(1,2,2)\n",
    "    plt.imshow(X[index])\n",
    "    plt.xlabel(classes[y_classes[index]])\n",
    "    \n",
    "    "
   ]
  },
  {
   "cell_type": "code",
   "execution_count": 19,
   "metadata": {
    "execution": {
     "iopub.execute_input": "2025-03-02T10:16:26.552217Z",
     "iopub.status.busy": "2025-03-02T10:16:26.551919Z",
     "iopub.status.idle": "2025-03-02T10:16:26.814163Z",
     "shell.execute_reply": "2025-03-02T10:16:26.813273Z",
     "shell.execute_reply.started": "2025-03-02T10:16:26.552194Z"
    },
    "trusted": true
   },
   "outputs": [
    {
     "data": {
      "image/png": "[encoded data removed]",
      "text/plain": [
       "<Figure size 640x480 with 2 Axes>"
      ]
     },
     "metadata": {},
     "output_type": "display_data"
    }
   ],
   "source": [
    "# case where model is failing to classify correctly\n",
    "comparison(X_test,y_test,1040)"
   ]
  },
  {
   "cell_type": "code",
   "execution_count": 20,
   "metadata": {
    "execution": {
     "iopub.execute_input": "2025-03-02T10:17:03.812129Z",
     "iopub.status.busy": "2025-03-02T10:17:03.811791Z",
     "iopub.status.idle": "2025-03-02T10:17:04.086769Z",
     "shell.execute_reply": "2025-03-02T10:17:04.085945Z",
     "shell.execute_reply.started": "2025-03-02T10:17:03.812102Z"
    },
    "trusted": true
   },
   "outputs": [
    {
     "data": {
      "image/png": "[encoded data removed]",
      "text/plain": [
       "<Figure size 640x480 with 2 Axes>"
      ]
     },
     "metadata": {},
     "output_type": "display_data"
    }
   ],
   "source": [
    "# case where model is classifying correctly\n",
    "comparison(X_test,y_test,1041)"
   ]
  },
  {
   "cell_type": "code",
   "execution_count": 21,
   "metadata": {
    "trusted": true
   },
   "outputs": [
    {
     "name": "stderr",
     "output_type": "stream",
     "text": [
      "WARNING:absl:You are saving your model as an HDF5 file via `model.save()` or `keras.saving.save_model(model)`. This file format is considered legacy. We recommend using instead the native Keras format, e.g. `model.save('my_model.keras')` or `keras.saving.save_model(model, 'my_model.keras')`. \n"
     ]
    }
   ],
   "source": [
    "cnn.save(\"model/cnn_model.h5\")\n"
   ]
  }
 ],
 "metadata": {
  "kaggle": {
   "accelerator": "gpu",
   "dataSources": [],
   "dockerImageVersionId": 30919,
   "isGpuEnabled": true,
   "isInternetEnabled": true,
   "language": "python",
   "sourceType": "notebook"
  },
  "kernelspec": {
   "display_name": "Python 3",
   "language": "python",
   "name": "python3"
  },
  "language_info": {
   "codemirror_mode": {
    "name": "ipython",
    "version": 3
   },
   "file_extension": ".py",
   "mimetype": "text/x-python",
   "name": "python",
   "nbconvert_exporter": "python",
   "pygments_lexer": "ipython3",
   "version": "3.12.1"
  }
 },
 "nbformat": 4,
 "nbformat_minor": 4
}
